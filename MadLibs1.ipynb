{
 "cells": [
  {
   "cell_type": "code",
   "execution_count": null,
   "metadata": {},
   "outputs": [],
   "source": [
    "pNoun1 = input(\"Please give me a proper noun\")\n",
    "adj1 = input(\"Please give me an adjective\")\n",
    "noun2 = input(\"Please give me a noun\")\n",
    "verb1 = input(\"Please give me a verb\")\n",
    "bpart1 = input(\"Please give me a body part\")\n",
    "celeb1 = input(\"Please give me a Celebrity Name\")\n",
    "num1 = input(\"Please give me a number\")\n",
    "print(\"Today I will tell you a story about\", pNoun1, \"and their adventure in the land of\", adj1,\"ville .\") \n",
    "print(\"One day\", pNoun1, \"was sitting on a\", noun2, \"when a huge wind stated to blow\")\n",
    "print(pNoun1, \"was quickly able to\", verb1, \"away from thier\", noun2, \"but the wind was too strong and he landed on his\", bpart1)\n",
    "print(\"Fortunately ,\", celeb1, \"was right there to catch\", pNoun1, \"and prevented any serious damage from happening\")\n",
    "print(pNoun1, \"was so thankfull they decided to give\", celeb1, \"a tip of\", num1)"
   ]
  }
 ],
 "metadata": {
  "kernelspec": {
   "display_name": "Python 3",
   "language": "python",
   "name": "python3"
  },
  "language_info": {
   "codemirror_mode": {
    "name": "ipython",
    "version": 3
   },
   "file_extension": ".py",
   "mimetype": "text/x-python",
   "name": "python",
   "nbconvert_exporter": "python",
   "pygments_lexer": "ipython3",
   "version": "3.12.3"
  }
 },
 "nbformat": 4,
 "nbformat_minor": 2
}
